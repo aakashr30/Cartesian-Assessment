{
  "nbformat": 4,
  "nbformat_minor": 0,
  "metadata": {
    "colab": {
      "name": "Cartesian Internship Answers.ipynb",
      "provenance": [],
      "collapsed_sections": []
    },
    "kernelspec": {
      "name": "python3",
      "display_name": "Python 3"
    },
    "language_info": {
      "name": "python"
    }
  },
  "cells": [
    {
      "cell_type": "markdown",
      "source": [
        "**The problem Statement**\n",
        "\n",
        "The program takes input a short abstract and outputs the following\n",
        "\n",
        "**•\tprints each word in reverse.**\n"
      ],
      "metadata": {
        "id": "H9cQBrgi4UCK"
      }
    },
    {
      "cell_type": "code",
      "source": [
        "words=\"This declaration represents a political commitment among declaration partners to advance a positive vision for the Internet in this era of a united europe\"\n",
        "print(words)"
      ],
      "metadata": {
        "colab": {
          "base_uri": "https://localhost:8080/"
        },
        "id": "YsSUgicP0D_t",
        "outputId": "f4ac1525-b0d0-4bd3-d708-4b95501d31ab"
      },
      "execution_count": null,
      "outputs": [
        {
          "output_type": "stream",
          "name": "stdout",
          "text": [
            "This declaration represents a political commitment among declaration partners to advance a positive vision for the Internet in this era of a united europe\n"
          ]
        }
      ]
    },
    {
      "cell_type": "code",
      "source": [
        "x=words.lower()\n",
        "print(x)"
      ],
      "metadata": {
        "colab": {
          "base_uri": "https://localhost:8080/"
        },
        "id": "KG6Wb-oo3Bz6",
        "outputId": "16c339eb-4bf7-43f6-ec87-0e9715c6af66"
      },
      "execution_count": null,
      "outputs": [
        {
          "output_type": "stream",
          "name": "stdout",
          "text": [
            "this declaration represents a political commitment among declaration partners to advance a positive vision for the internet in this era of a united europe\n"
          ]
        }
      ]
    },
    {
      "cell_type": "code",
      "source": [
        "y=x.split()[::-1]\n",
        "print(y)"
      ],
      "metadata": {
        "colab": {
          "base_uri": "https://localhost:8080/"
        },
        "id": "Kfvn0i613SvK",
        "outputId": "f21f8b7b-d0c9-46f8-c0b5-32a0301d3fba"
      },
      "execution_count": null,
      "outputs": [
        {
          "output_type": "stream",
          "name": "stdout",
          "text": [
            "['europe', 'united', 'a', 'of', 'era', 'this', 'in', 'internet', 'the', 'for', 'vision', 'positive', 'a', 'advance', 'to', 'partners', 'declaration', 'among', 'commitment', 'political', 'a', 'represents', 'declaration', 'this']\n"
          ]
        }
      ]
    },
    {
      "cell_type": "code",
      "source": [
        "z=\"\"\n",
        "for i in y:\n",
        "  z=z+i+' '\n",
        "print('\"'+z.capitalize()+'\"')"
      ],
      "metadata": {
        "colab": {
          "base_uri": "https://localhost:8080/"
        },
        "id": "axhfOQbH3cB2",
        "outputId": "9ea3f0b4-8ec8-46af-8f69-d6f69aa70730"
      },
      "execution_count": null,
      "outputs": [
        {
          "output_type": "stream",
          "name": "stdout",
          "text": [
            "\"Europe united a of era this in internet the for vision positive a advance to partners declaration among commitment political a represents declaration this \"\n"
          ]
        }
      ]
    },
    {
      "cell_type": "markdown",
      "source": [
        "**prints Top 2 occurring words in sorted order**\n",
        "\n",
        " The words that have occurred most of the time"
      ],
      "metadata": {
        "id": "ttutxdr4I2y-"
      }
    },
    {
      "cell_type": "code",
      "source": [
        "#import the packages counter\n",
        "from collections import Counter"
      ],
      "metadata": {
        "id": "qQrBvUd8_WHp"
      },
      "execution_count": null,
      "outputs": []
    },
    {
      "cell_type": "code",
      "source": [
        "#split the words\n",
        "wordlist = words.split()\n",
        "print(wordlist)"
      ],
      "metadata": {
        "colab": {
          "base_uri": "https://localhost:8080/"
        },
        "id": "bNQiAEDEJRHe",
        "outputId": "4e11cb16-83a1-41c2-e6e4-b28ddfa69bca"
      },
      "execution_count": null,
      "outputs": [
        {
          "output_type": "stream",
          "name": "stdout",
          "text": [
            "['This', 'declaration', 'represents', 'a', 'political', 'commitment', 'among', 'declaration', 'partners', 'to', 'advance', 'a', 'positive', 'vision', 'for', 'the', 'Internet', 'in', 'this', 'era', 'of', 'a', 'united', 'europe']\n"
          ]
        }
      ]
    },
    {
      "cell_type": "code",
      "source": [
        "#count the words\n",
        "countword = Counter(wordlist)\n",
        "print(countword)"
      ],
      "metadata": {
        "colab": {
          "base_uri": "https://localhost:8080/"
        },
        "id": "07XasayWJUpX",
        "outputId": "73f72021-0886-4f5d-a981-514f9365290d"
      },
      "execution_count": null,
      "outputs": [
        {
          "output_type": "stream",
          "name": "stdout",
          "text": [
            "Counter({'a': 3, 'declaration': 2, 'This': 1, 'represents': 1, 'political': 1, 'commitment': 1, 'among': 1, 'partners': 1, 'to': 1, 'advance': 1, 'positive': 1, 'vision': 1, 'for': 1, 'the': 1, 'Internet': 1, 'in': 1, 'this': 1, 'era': 1, 'of': 1, 'united': 1, 'europe': 1})\n"
          ]
        }
      ]
    },
    {
      "cell_type": "code",
      "source": [
        "#print the most common words using most_common function\n",
        "print(countword.most_common(2))"
      ],
      "metadata": {
        "id": "8o0rjDGGJbFg"
      },
      "execution_count": null,
      "outputs": []
    }
  ]
}